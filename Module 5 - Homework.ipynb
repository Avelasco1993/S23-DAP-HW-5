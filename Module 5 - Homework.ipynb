{
 "cells": [
  {
   "cell_type": "markdown",
   "metadata": {},
   "source": [
    "### Exercise 1. \n",
    "Create a dictionary named pairs with key value pairs of:\n",
    "    - 'hello' and 'fire', \n",
    "    - 3 and 'seven', \n",
    "    - 'strong' and 45. \n",
    "\n",
    "Then, print out the dictionary."
   ]
  },
  {
   "cell_type": "code",
   "execution_count": 1,
   "metadata": {},
   "outputs": [
    {
     "name": "stdout",
     "output_type": "stream",
     "text": [
      "{'hello': 'fire', 3: 'seven', 'strong': 45}\n"
     ]
    }
   ],
   "source": [
    "pairs = {\"hello\": \"fire\",\n",
    "        3: \"seven\",\n",
    "        \"strong\": 45}\n",
    "\n",
    "print(pairs)"
   ]
  },
  {
   "cell_type": "markdown",
   "metadata": {},
   "source": [
    "### Exercise 2. \n",
    "Add 'welcome' and 56 pair into <b><i>pairs</i></b> dictionary from exercise 1. Then, print out the dictionary. "
   ]
  },
  {
   "cell_type": "code",
   "execution_count": 2,
   "metadata": {},
   "outputs": [
    {
     "name": "stdout",
     "output_type": "stream",
     "text": [
      "{'hello': 'fire', 3: 'seven', 'strong': 45, 'welcome': '56'}\n"
     ]
    }
   ],
   "source": [
    "pairs[\"welcome\"] = \"56\"\n",
    "print(pairs)"
   ]
  },
  {
   "cell_type": "markdown",
   "metadata": {},
   "source": [
    "### Exercise 3. \n",
    "Delete one item from <b><i>pairs</i></b> dictionary. Then, print deleted item and the dictionary."
   ]
  },
  {
   "cell_type": "code",
   "execution_count": 3,
   "metadata": {},
   "outputs": [
    {
     "name": "stdout",
     "output_type": "stream",
     "text": [
      "56\n"
     ]
    }
   ],
   "source": [
    "popped = pairs.pop(\"welcome\")\n",
    "print(popped)"
   ]
  },
  {
   "cell_type": "markdown",
   "metadata": {},
   "source": [
    "### Exercise 4. \n",
    "Print the value of an item where key is 3 in <b><i>pairs</i></b> dicitonary"
   ]
  },
  {
   "cell_type": "code",
   "execution_count": 4,
   "metadata": {},
   "outputs": [
    {
     "name": "stdout",
     "output_type": "stream",
     "text": [
      "seven\n",
      "{'hello': 'fire', 3: 'seven', 'strong': 45}\n"
     ]
    }
   ],
   "source": [
    "item = pairs[3]\n",
    "print(item)\n",
    "print(pairs)"
   ]
  },
  {
   "cell_type": "markdown",
   "metadata": {},
   "source": [
    "### Exercise 5. \n",
    "Try to find out if the key called 'hello' exist in <b><i>pairs</i></b> dictionary. Print 'key is found' message if the key exists otherwise print 'key is not there'."
   ]
  },
  {
   "cell_type": "code",
   "execution_count": 5,
   "metadata": {},
   "outputs": [
    {
     "name": "stdout",
     "output_type": "stream",
     "text": [
      "Key is found\n"
     ]
    }
   ],
   "source": [
    "if \"hello\" in pairs :\n",
    "    print(\"Key is found\")\n",
    "else :\n",
    "    print(\"Key is not there\")"
   ]
  },
  {
   "cell_type": "markdown",
   "metadata": {},
   "source": [
    "### Exercise 6. \n",
    "\n",
    "For each item in a dictionary, create a for-loop that prints all the key-value pairs in the following format:\n",
    "\n",
    "        key -> value\n",
    "        \n",
    "To complete this exercise, first create your own dictionary of pet names. The key should be the type of pet (i.e. dog, lizard, etc) and the value should be the name of the specific pet. Your dictionary should have at least 5 items. "
   ]
  },
  {
   "cell_type": "code",
   "execution_count": 6,
   "metadata": {},
   "outputs": [
    {
     "name": "stdout",
     "output_type": "stream",
     "text": [
      "Enter student's name: aj\n",
      "Enter student's test score: 90\n",
      "Continue? (y/n)y\n",
      "Enter student's name: grace\n",
      "Enter student's test score: 81\n",
      "Continue? (y/n)y\n",
      "Enter student's name: rick\n",
      "Enter student's test score: 75\n",
      "Continue? (y/n)n\n",
      "{'aj': 90.0, 'grace': 81.0, 'rick': 75.0}\n",
      "\n",
      "Passed Students are ['aj', 'grace', 'rick']\n",
      "\n",
      "Failed Students are []\n"
     ]
    }
   ],
   "source": [
    "passed = []\n",
    "failed = []\n",
    "students = {}\n",
    "\n",
    "stop = False\n",
    "while not stop :\n",
    "    student = input(\"Enter student's name: \")\n",
    "    score = input(\"Enter student's test score: \")\n",
    "    students[student] = float(score)\n",
    "    stop = input(\"Continue? (y/n)\") == 'n'\n",
    "        \n",
    "        \n",
    "for key,value in students.items() :\n",
    "    if value >= 60 :\n",
    "        passed.append(key)\n",
    "    else :\n",
    "        failed.append(key)\n",
    "        \n",
    "print(students)   \n",
    "print(f\"\\nPassed Students are {passed}\")\n",
    "print(f\"\\nFailed Students are {failed}\")"
   ]
  },
  {
   "cell_type": "markdown",
   "metadata": {},
   "source": [
    "### Exercise 7. \n",
    "\n",
    "Convert the following lists into a single dictionary.\n",
    "\n",
    "keys = ['Ten', 'Twenty', 'Thirty']\n",
    "values = [10, 20, 30]"
   ]
  },
  {
   "cell_type": "code",
   "execution_count": 7,
   "metadata": {},
   "outputs": [
    {
     "ename": "SyntaxError",
     "evalue": "invalid syntax (1873632176.py, line 1)",
     "output_type": "error",
     "traceback": [
      "\u001b[1;36m  File \u001b[1;32m\"C:\\Users\\Alvin\\AppData\\Local\\Temp\\ipykernel_20300\\1873632176.py\"\u001b[1;36m, line \u001b[1;32m1\u001b[0m\n\u001b[1;33m    The Word Counter Program\u001b[0m\n\u001b[1;37m        ^\u001b[0m\n\u001b[1;31mSyntaxError\u001b[0m\u001b[1;31m:\u001b[0m invalid syntax\n"
     ]
    }
   ],
   "source": [
    "The Word Counter Program\n",
    "\n",
    "Enter a text string: \n",
    "Humpty Dumpty sat on a wall, Humpty Dumpty had a great fall. All the king’s horses and all the king’s men couldn’t put Humpty together again.\n",
    "\n",
    "a : 2\n",
    "again : 1\n",
    "all : 2\n",
    "and : 1\n",
    "couldn’t : 1\n",
    "dumpty : 2\n",
    "fall : 1\n",
    "great : 1\n",
    "had : 1\n",
    "horses : 1\n",
    "humpty : 3\n",
    "king’s : 2\n",
    "men : 1\n",
    "on : 1\n",
    "put : 1\n",
    "sat : 1\n",
    "the : 2\n",
    "together : 1\n",
    "wall : 1\n",
    "\n",
    "There were total 26 words in the text string "
   ]
  },
  {
   "cell_type": "markdown",
   "metadata": {},
   "source": [
    "### Exercise 8. \n",
    "\n",
    "Convert the following list and dictionary into a single dictionary. The name of the patient should be the key and their health info should be the value. \n",
    "\n",
    "patient_name = [\"Lily\", \"Morgan\", \"Nicholas\"]\n",
    "\n",
    "patient_info = {\"5'6\" : \"178lbs\", \"5'9\" : \"134lbs\", \"6'1\" : \"218lbs\"}"
   ]
  },
  {
   "cell_type": "code",
   "execution_count": 8,
   "metadata": {},
   "outputs": [
    {
     "name": "stdout",
     "output_type": "stream",
     "text": [
      "The Word Counter Program\n",
      "\n",
      "Enter a text string: \n",
      "text to text\n",
      "text : 2\n",
      "to : 1\n",
      "There were total 3 words in the text string\n"
     ]
    }
   ],
   "source": [
    "def get_words(text) :\n",
    "    text = text.replace(\",\", \"\")\n",
    "    text = text.replace(\".\", \"\")\n",
    "    text = text.lower()\n",
    "    \n",
    "    words = text.split(\" \")\n",
    "    return words\n",
    "\n",
    "def count_words(words) :\n",
    "    word_count = {}\n",
    "    for word in words :\n",
    "        if word in word_count :\n",
    "            word_count[word] += 1\n",
    "        else :\n",
    "            word_count[word] = 1\n",
    "            \n",
    "    return word_count\n",
    "\n",
    "def display_word_count(word_count) :\n",
    "    words = list(word_count.keys())\n",
    "    words.sort(key=str.lower)\n",
    "    total = 0\n",
    "    for word in words :\n",
    "        print(f\"{word} : {word_count[word]}\")\n",
    "        total += word_count[word]\n",
    "    \n",
    "    return total    \n",
    "        \n",
    "print(\"The Word Counter Program\\n\")\n",
    "print(\"Enter a text string: \")\n",
    "text_str = input()\n",
    "word_list = get_words(text_str)\n",
    "word_count_list = count_words(word_list)\n",
    "all_words = display_word_count(word_count_list)\n",
    "print(f\"There were total {all_words} words in the text string\")\n"
   ]
  },
  {
   "cell_type": "code",
   "execution_count": null,
   "metadata": {},
   "outputs": [],
   "source": []
  }
 ],
 "metadata": {
  "kernelspec": {
   "display_name": "Python 3 (ipykernel)",
   "language": "python",
   "name": "python3"
  },
  "language_info": {
   "codemirror_mode": {
    "name": "ipython",
    "version": 3
   },
   "file_extension": ".py",
   "mimetype": "text/x-python",
   "name": "python",
   "nbconvert_exporter": "python",
   "pygments_lexer": "ipython3",
   "version": "3.9.13"
  }
 },
 "nbformat": 4,
 "nbformat_minor": 4
}
